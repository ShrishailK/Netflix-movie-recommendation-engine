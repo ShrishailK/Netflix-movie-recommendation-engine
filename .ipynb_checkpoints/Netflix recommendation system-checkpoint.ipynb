{
 "cells": [
  {
   "cell_type": "markdown",
   "metadata": {},
   "source": [
    "# Netflix Movie Recommendation"
   ]
  },
  {
   "cell_type": "markdown",
   "metadata": {},
   "source": [
    "## Overview data"
   ]
  },
  {
   "cell_type": "code",
   "execution_count": 2,
   "metadata": {},
   "outputs": [],
   "source": [
    "import pandas as pd\n",
    "import numpy as np\n",
    "import warnings\n",
    "import nltk\n",
    "from nltk.corpus import stopwords\n",
    "from nltk.tokenize import word_tokenize\n",
    "from sklearn.feature_extraction.text import CountVectorizer\n",
    "from sklearn.feature_extraction.text import TfidfVectorizer\n",
    "from sklearn.metrics import pairwise_distances\n",
    "from collections import Counter\n",
    "warnings.filterwarnings(\"ignore\")"
   ]
  },
  {
   "cell_type": "code",
   "execution_count": 9,
   "metadata": {},
   "outputs": [],
   "source": [
    "data = pd.read_csv('netflix_titles.csv')"
   ]
  },
  {
   "cell_type": "markdown",
   "metadata": {},
   "source": [
    "# Data Analysis and Data cleaning"
   ]
  },
  {
   "cell_type": "code",
   "execution_count": 10,
   "metadata": {},
   "outputs": [
    {
     "data": {
      "text/html": [
       "<div>\n",
       "<style scoped>\n",
       "    .dataframe tbody tr th:only-of-type {\n",
       "        vertical-align: middle;\n",
       "    }\n",
       "\n",
       "    .dataframe tbody tr th {\n",
       "        vertical-align: top;\n",
       "    }\n",
       "\n",
       "    .dataframe thead th {\n",
       "        text-align: right;\n",
       "    }\n",
       "</style>\n",
       "<table border=\"1\" class=\"dataframe\">\n",
       "  <thead>\n",
       "    <tr style=\"text-align: right;\">\n",
       "      <th></th>\n",
       "      <th>show_id</th>\n",
       "      <th>type</th>\n",
       "      <th>title</th>\n",
       "      <th>director</th>\n",
       "      <th>cast</th>\n",
       "      <th>country</th>\n",
       "      <th>date_added</th>\n",
       "      <th>release_year</th>\n",
       "      <th>rating</th>\n",
       "      <th>duration</th>\n",
       "      <th>listed_in</th>\n",
       "      <th>description</th>\n",
       "    </tr>\n",
       "  </thead>\n",
       "  <tbody>\n",
       "    <tr>\n",
       "      <th>0</th>\n",
       "      <td>s1</td>\n",
       "      <td>TV Show</td>\n",
       "      <td>3%</td>\n",
       "      <td>NaN</td>\n",
       "      <td>João Miguel, Bianca Comparato, Michel Gomes, R...</td>\n",
       "      <td>Brazil</td>\n",
       "      <td>August 14, 2020</td>\n",
       "      <td>2020</td>\n",
       "      <td>TV-MA</td>\n",
       "      <td>4 Seasons</td>\n",
       "      <td>International TV Shows, TV Dramas, TV Sci-Fi &amp;...</td>\n",
       "      <td>In a future where the elite inhabit an island ...</td>\n",
       "    </tr>\n",
       "    <tr>\n",
       "      <th>1</th>\n",
       "      <td>s2</td>\n",
       "      <td>Movie</td>\n",
       "      <td>7:19</td>\n",
       "      <td>Jorge Michel Grau</td>\n",
       "      <td>Demián Bichir, Héctor Bonilla, Oscar Serrano, ...</td>\n",
       "      <td>Mexico</td>\n",
       "      <td>December 23, 2016</td>\n",
       "      <td>2016</td>\n",
       "      <td>TV-MA</td>\n",
       "      <td>93 min</td>\n",
       "      <td>Dramas, International Movies</td>\n",
       "      <td>After a devastating earthquake hits Mexico Cit...</td>\n",
       "    </tr>\n",
       "    <tr>\n",
       "      <th>2</th>\n",
       "      <td>s3</td>\n",
       "      <td>Movie</td>\n",
       "      <td>23:59</td>\n",
       "      <td>Gilbert Chan</td>\n",
       "      <td>Tedd Chan, Stella Chung, Henley Hii, Lawrence ...</td>\n",
       "      <td>Singapore</td>\n",
       "      <td>December 20, 2018</td>\n",
       "      <td>2011</td>\n",
       "      <td>R</td>\n",
       "      <td>78 min</td>\n",
       "      <td>Horror Movies, International Movies</td>\n",
       "      <td>When an army recruit is found dead, his fellow...</td>\n",
       "    </tr>\n",
       "    <tr>\n",
       "      <th>3</th>\n",
       "      <td>s4</td>\n",
       "      <td>Movie</td>\n",
       "      <td>9</td>\n",
       "      <td>Shane Acker</td>\n",
       "      <td>Elijah Wood, John C. Reilly, Jennifer Connelly...</td>\n",
       "      <td>United States</td>\n",
       "      <td>November 16, 2017</td>\n",
       "      <td>2009</td>\n",
       "      <td>PG-13</td>\n",
       "      <td>80 min</td>\n",
       "      <td>Action &amp; Adventure, Independent Movies, Sci-Fi...</td>\n",
       "      <td>In a postapocalyptic world, rag-doll robots hi...</td>\n",
       "    </tr>\n",
       "    <tr>\n",
       "      <th>4</th>\n",
       "      <td>s5</td>\n",
       "      <td>Movie</td>\n",
       "      <td>21</td>\n",
       "      <td>Robert Luketic</td>\n",
       "      <td>Jim Sturgess, Kevin Spacey, Kate Bosworth, Aar...</td>\n",
       "      <td>United States</td>\n",
       "      <td>January 1, 2020</td>\n",
       "      <td>2008</td>\n",
       "      <td>PG-13</td>\n",
       "      <td>123 min</td>\n",
       "      <td>Dramas</td>\n",
       "      <td>A brilliant group of students become card-coun...</td>\n",
       "    </tr>\n",
       "  </tbody>\n",
       "</table>\n",
       "</div>"
      ],
      "text/plain": [
       "  show_id     type  title           director  \\\n",
       "0      s1  TV Show     3%                NaN   \n",
       "1      s2    Movie   7:19  Jorge Michel Grau   \n",
       "2      s3    Movie  23:59       Gilbert Chan   \n",
       "3      s4    Movie      9        Shane Acker   \n",
       "4      s5    Movie     21     Robert Luketic   \n",
       "\n",
       "                                                cast        country  \\\n",
       "0  João Miguel, Bianca Comparato, Michel Gomes, R...         Brazil   \n",
       "1  Demián Bichir, Héctor Bonilla, Oscar Serrano, ...         Mexico   \n",
       "2  Tedd Chan, Stella Chung, Henley Hii, Lawrence ...      Singapore   \n",
       "3  Elijah Wood, John C. Reilly, Jennifer Connelly...  United States   \n",
       "4  Jim Sturgess, Kevin Spacey, Kate Bosworth, Aar...  United States   \n",
       "\n",
       "          date_added  release_year rating   duration  \\\n",
       "0    August 14, 2020          2020  TV-MA  4 Seasons   \n",
       "1  December 23, 2016          2016  TV-MA     93 min   \n",
       "2  December 20, 2018          2011      R     78 min   \n",
       "3  November 16, 2017          2009  PG-13     80 min   \n",
       "4    January 1, 2020          2008  PG-13    123 min   \n",
       "\n",
       "                                           listed_in  \\\n",
       "0  International TV Shows, TV Dramas, TV Sci-Fi &...   \n",
       "1                       Dramas, International Movies   \n",
       "2                Horror Movies, International Movies   \n",
       "3  Action & Adventure, Independent Movies, Sci-Fi...   \n",
       "4                                             Dramas   \n",
       "\n",
       "                                         description  \n",
       "0  In a future where the elite inhabit an island ...  \n",
       "1  After a devastating earthquake hits Mexico Cit...  \n",
       "2  When an army recruit is found dead, his fellow...  \n",
       "3  In a postapocalyptic world, rag-doll robots hi...  \n",
       "4  A brilliant group of students become card-coun...  "
      ]
     },
     "execution_count": 10,
     "metadata": {},
     "output_type": "execute_result"
    }
   ],
   "source": [
    "data.head()"
   ]
  },
  {
   "cell_type": "code",
   "execution_count": 12,
   "metadata": {},
   "outputs": [],
   "source": [
    "# To be used to compare similar movies\n",
    "description = data[['description','listed_in']]"
   ]
  },
  {
   "cell_type": "code",
   "execution_count": 760,
   "metadata": {},
   "outputs": [
    {
     "data": {
      "text/plain": [
       "(7787, 12)"
      ]
     },
     "execution_count": 760,
     "metadata": {},
     "output_type": "execute_result"
    }
   ],
   "source": [
    "#The given number of features and data points\n",
    "#no. of data points = 7787\n",
    "#no. of features = 12\n",
    "data.shape"
   ]
  },
  {
   "cell_type": "code",
   "execution_count": 761,
   "metadata": {},
   "outputs": [
    {
     "data": {
      "text/plain": [
       "Index(['show_id', 'type', 'title', 'director', 'cast', 'country', 'date_added',\n",
       "       'release_year', 'rating', 'duration', 'listed_in', 'description'],\n",
       "      dtype='object')"
      ]
     },
     "execution_count": 761,
     "metadata": {},
     "output_type": "execute_result"
    }
   ],
   "source": [
    "#finding out all feature names\n",
    "data.columns"
   ]
  },
  {
   "cell_type": "code",
   "execution_count": 762,
   "metadata": {},
   "outputs": [],
   "source": [
    "#Keeping Relevant features to used for recommendation system building using nlp\n",
    "data = data[['title','country','director','cast','listed_in','description']]"
   ]
  },
  {
   "cell_type": "markdown",
   "metadata": {},
   "source": [
    "#### Missing data"
   ]
  },
  {
   "cell_type": "code",
   "execution_count": 763,
   "metadata": {},
   "outputs": [
    {
     "data": {
      "text/plain": [
       "(7787, 6)"
      ]
     },
     "execution_count": 763,
     "metadata": {},
     "output_type": "execute_result"
    }
   ],
   "source": [
    "#removing all Nan title null(if movie name not present means movie does not exist in list) \n",
    "data = data[~data['title'].isnull()] \n",
    "data.shape"
   ]
  },
  {
   "cell_type": "code",
   "execution_count": 764,
   "metadata": {},
   "outputs": [
    {
     "data": {
      "text/plain": [
       "(7787, 6)"
      ]
     },
     "execution_count": 764,
     "metadata": {},
     "output_type": "execute_result"
    }
   ],
   "source": [
    "#description required for words based vector formation for finding similarity between two movies\n",
    "data[~data['description'].isnull()]\n",
    "data.shape"
   ]
  },
  {
   "cell_type": "markdown",
   "metadata": {},
   "source": [
    "#### Duplicate data"
   ]
  },
  {
   "cell_type": "code",
   "execution_count": 765,
   "metadata": {},
   "outputs": [
    {
     "data": {
      "text/plain": [
       "0"
      ]
     },
     "execution_count": 765,
     "metadata": {},
     "output_type": "execute_result"
    }
   ],
   "source": [
    "#checking for title duplicates = none exists as the sum is 0\n",
    "#Therefore there are no duplicate title in movie/TV series data to remove\n",
    "sum(data.duplicated('title'))"
   ]
  },
  {
   "cell_type": "code",
   "execution_count": 766,
   "metadata": {},
   "outputs": [],
   "source": [
    "#does not make sense to business sense to remove duplicate cast,listed_in(basically genre) \n",
    "#as they might be the same for two different movies"
   ]
  },
  {
   "cell_type": "code",
   "execution_count": 767,
   "metadata": {},
   "outputs": [
    {
     "data": {
      "text/plain": [
       "(7787, 6)"
      ]
     },
     "execution_count": 767,
     "metadata": {},
     "output_type": "execute_result"
    }
   ],
   "source": [
    "# Trying filling for all NAN values with an empty string\n",
    "data.fillna(\" \", inplace = True)\n",
    "data.shape"
   ]
  },
  {
   "cell_type": "code",
   "execution_count": 768,
   "metadata": {},
   "outputs": [],
   "source": [
    "#Saving data we are going to work with\n",
    "data.to_pickle('Pickle/7k_data_points')"
   ]
  },
  {
   "cell_type": "code",
   "execution_count": 944,
   "metadata": {},
   "outputs": [],
   "source": [
    "data = pd.read_pickle('Pickle/7k_data_points')"
   ]
  },
  {
   "cell_type": "markdown",
   "metadata": {},
   "source": [
    "#### Basic stats for data"
   ]
  },
  {
   "cell_type": "code",
   "execution_count": 945,
   "metadata": {},
   "outputs": [
    {
     "data": {
      "text/plain": [
       "count     7787\n",
       "unique    6832\n",
       "top           \n",
       "freq       718\n",
       "Name: cast, dtype: object"
      ]
     },
     "execution_count": 945,
     "metadata": {},
     "output_type": "execute_result"
    }
   ],
   "source": [
    "#There area a total of 6832 unique actor casts in our movies\n",
    "#718 movies whos cast are not known in our data\n",
    "data['cast'].describe()"
   ]
  },
  {
   "cell_type": "code",
   "execution_count": 946,
   "metadata": {},
   "outputs": [
    {
     "data": {
      "text/plain": [
       "count     7787\n",
       "unique    4050\n",
       "top           \n",
       "freq      2389\n",
       "Name: director, dtype: object"
      ]
     },
     "execution_count": 946,
     "metadata": {},
     "output_type": "execute_result"
    }
   ],
   "source": [
    "#There area a total of 4050 unique directors\n",
    "#2389 movies whos directors are not known in our data\n",
    "data['director'].describe()"
   ]
  },
  {
   "cell_type": "code",
   "execution_count": 947,
   "metadata": {},
   "outputs": [
    {
     "data": {
      "text/plain": [
       "[(' ', 2389),\n",
       " ('Raúl Campos, Jan Suter', 18),\n",
       " ('Marcus Raboy', 16),\n",
       " ('Jay Karas', 14),\n",
       " ('Cathy Garcia-Molina', 13),\n",
       " ('Youssef Chahine', 12),\n",
       " ('Martin Scorsese', 12),\n",
       " ('Jay Chapman', 12),\n",
       " ('Steven Spielberg', 10),\n",
       " ('David Dhawan', 9)]"
      ]
     },
     "execution_count": 947,
     "metadata": {},
     "output_type": "execute_result"
    }
   ],
   "source": [
    "director_count = Counter(data['director'])\n",
    "director_count.most_common(10)"
   ]
  },
  {
   "cell_type": "markdown",
   "metadata": {},
   "source": [
    "# Text Preprocessing"
   ]
  },
  {
   "cell_type": "markdown",
   "metadata": {},
   "source": [
    "#### Taking care of Stopwords"
   ]
  },
  {
   "cell_type": "code",
   "execution_count": 948,
   "metadata": {},
   "outputs": [
    {
     "name": "stdout",
     "output_type": "stream",
     "text": [
      "These are all the stop words ['i', 'me', 'my', 'myself', 'we', 'our', 'ours', 'ourselves', 'you', \"you're\", \"you've\", \"you'll\", \"you'd\", 'your', 'yours', 'yourself', 'yourselves', 'he', 'him', 'his', 'himself', 'she', \"she's\", 'her', 'hers', 'herself', 'it', \"it's\", 'its', 'itself', 'they', 'them', 'their', 'theirs', 'themselves', 'what', 'which', 'who', 'whom', 'this', 'that', \"that'll\", 'these', 'those', 'am', 'is', 'are', 'was', 'were', 'be', 'been', 'being', 'have', 'has', 'had', 'having', 'do', 'does', 'did', 'doing', 'a', 'an', 'the', 'and', 'but', 'if', 'or', 'because', 'as', 'until', 'while', 'of', 'at', 'by', 'for', 'with', 'about', 'against', 'between', 'into', 'through', 'during', 'before', 'after', 'above', 'below', 'to', 'from', 'up', 'down', 'in', 'out', 'on', 'off', 'over', 'under', 'again', 'further', 'then', 'once', 'here', 'there', 'when', 'where', 'why', 'how', 'all', 'any', 'both', 'each', 'few', 'more', 'most', 'other', 'some', 'such', 'no', 'nor', 'not', 'only', 'own', 'same', 'so', 'than', 'too', 'very', 's', 't', 'can', 'will', 'just', 'don', \"don't\", 'should', \"should've\", 'now', 'd', 'll', 'm', 'o', 're', 've', 'y', 'ain', 'aren', \"aren't\", 'couldn', \"couldn't\", 'didn', \"didn't\", 'doesn', \"doesn't\", 'hadn', \"hadn't\", 'hasn', \"hasn't\", 'haven', \"haven't\", 'isn', \"isn't\", 'ma', 'mightn', \"mightn't\", 'mustn', \"mustn't\", 'needn', \"needn't\", 'shan', \"shan't\", 'shouldn', \"shouldn't\", 'wasn', \"wasn't\", 'weren', \"weren't\", 'won', \"won't\", 'wouldn', \"wouldn't\"]\n"
     ]
    }
   ],
   "source": [
    "stop_words = stopwords.words('english')\n",
    "print('These are all the stop words', list(stop_words))\n",
    "def nlp_processing(text,index,column):\n",
    "    string = \" \"\n",
    "    for word in text.split():\n",
    "        words = (\"\".join(e for e in word if e.isalnum()))\n",
    "        words.lower()\n",
    "        if words not in stop_words:\n",
    "            string += ' ' + words \n",
    "    data[column][index] = string"
   ]
  },
  {
   "cell_type": "code",
   "execution_count": 949,
   "metadata": {},
   "outputs": [],
   "source": [
    "data['description'] = data['description'].map(lambda x : x.lower())"
   ]
  },
  {
   "cell_type": "code",
   "execution_count": 950,
   "metadata": {},
   "outputs": [],
   "source": [
    "for index,row in data.iterrows():\n",
    "    nlp_processing(row['description'],index,'description')"
   ]
  },
  {
   "cell_type": "code",
   "execution_count": 951,
   "metadata": {},
   "outputs": [
    {
     "data": {
      "text/html": [
       "<div>\n",
       "<style scoped>\n",
       "    .dataframe tbody tr th:only-of-type {\n",
       "        vertical-align: middle;\n",
       "    }\n",
       "\n",
       "    .dataframe tbody tr th {\n",
       "        vertical-align: top;\n",
       "    }\n",
       "\n",
       "    .dataframe thead th {\n",
       "        text-align: right;\n",
       "    }\n",
       "</style>\n",
       "<table border=\"1\" class=\"dataframe\">\n",
       "  <thead>\n",
       "    <tr style=\"text-align: right;\">\n",
       "      <th></th>\n",
       "      <th>title</th>\n",
       "      <th>country</th>\n",
       "      <th>director</th>\n",
       "      <th>cast</th>\n",
       "      <th>listed_in</th>\n",
       "      <th>description</th>\n",
       "    </tr>\n",
       "  </thead>\n",
       "  <tbody>\n",
       "    <tr>\n",
       "      <th>0</th>\n",
       "      <td>3%</td>\n",
       "      <td>Brazil</td>\n",
       "      <td></td>\n",
       "      <td>João Miguel, Bianca Comparato, Michel Gomes, R...</td>\n",
       "      <td>International TV Shows, TV Dramas, TV Sci-Fi &amp;...</td>\n",
       "      <td>future elite inhabit island paradise far cro...</td>\n",
       "    </tr>\n",
       "    <tr>\n",
       "      <th>1</th>\n",
       "      <td>7:19</td>\n",
       "      <td>Mexico</td>\n",
       "      <td>Jorge Michel Grau</td>\n",
       "      <td>Demián Bichir, Héctor Bonilla, Oscar Serrano, ...</td>\n",
       "      <td>Dramas, International Movies</td>\n",
       "      <td>devastating earthquake hits mexico city trap...</td>\n",
       "    </tr>\n",
       "    <tr>\n",
       "      <th>2</th>\n",
       "      <td>23:59</td>\n",
       "      <td>Singapore</td>\n",
       "      <td>Gilbert Chan</td>\n",
       "      <td>Tedd Chan, Stella Chung, Henley Hii, Lawrence ...</td>\n",
       "      <td>Horror Movies, International Movies</td>\n",
       "      <td>army recruit found dead fellow soldiers forc...</td>\n",
       "    </tr>\n",
       "    <tr>\n",
       "      <th>3</th>\n",
       "      <td>9</td>\n",
       "      <td>United States</td>\n",
       "      <td>Shane Acker</td>\n",
       "      <td>Elijah Wood, John C. Reilly, Jennifer Connelly...</td>\n",
       "      <td>Action &amp; Adventure, Independent Movies, Sci-Fi...</td>\n",
       "      <td>postapocalyptic world ragdoll robots hide fe...</td>\n",
       "    </tr>\n",
       "    <tr>\n",
       "      <th>4</th>\n",
       "      <td>21</td>\n",
       "      <td>United States</td>\n",
       "      <td>Robert Luketic</td>\n",
       "      <td>Jim Sturgess, Kevin Spacey, Kate Bosworth, Aar...</td>\n",
       "      <td>Dramas</td>\n",
       "      <td>brilliant group students become cardcounting...</td>\n",
       "    </tr>\n",
       "  </tbody>\n",
       "</table>\n",
       "</div>"
      ],
      "text/plain": [
       "   title        country           director  \\\n",
       "0     3%         Brazil                      \n",
       "1   7:19         Mexico  Jorge Michel Grau   \n",
       "2  23:59      Singapore       Gilbert Chan   \n",
       "3      9  United States        Shane Acker   \n",
       "4     21  United States     Robert Luketic   \n",
       "\n",
       "                                                cast  \\\n",
       "0  João Miguel, Bianca Comparato, Michel Gomes, R...   \n",
       "1  Demián Bichir, Héctor Bonilla, Oscar Serrano, ...   \n",
       "2  Tedd Chan, Stella Chung, Henley Hii, Lawrence ...   \n",
       "3  Elijah Wood, John C. Reilly, Jennifer Connelly...   \n",
       "4  Jim Sturgess, Kevin Spacey, Kate Bosworth, Aar...   \n",
       "\n",
       "                                           listed_in  \\\n",
       "0  International TV Shows, TV Dramas, TV Sci-Fi &...   \n",
       "1                       Dramas, International Movies   \n",
       "2                Horror Movies, International Movies   \n",
       "3  Action & Adventure, Independent Movies, Sci-Fi...   \n",
       "4                                             Dramas   \n",
       "\n",
       "                                         description  \n",
       "0    future elite inhabit island paradise far cro...  \n",
       "1    devastating earthquake hits mexico city trap...  \n",
       "2    army recruit found dead fellow soldiers forc...  \n",
       "3    postapocalyptic world ragdoll robots hide fe...  \n",
       "4    brilliant group students become cardcounting...  "
      ]
     },
     "execution_count": 951,
     "metadata": {},
     "output_type": "execute_result"
    }
   ],
   "source": [
    "data.head()"
   ]
  },
  {
   "cell_type": "code",
   "execution_count": 952,
   "metadata": {},
   "outputs": [],
   "source": [
    "# keeping just the top four cast names\n",
    "data['cast'] = data['cast'].map(lambda x : x.split(',')[:3])\n",
    "\n",
    "#seprating the listed_in category\n",
    "data['listed_in'] = data['listed_in'].map(lambda x : x.lower().split(','))\n",
    " \n",
    "#joining the director surnames and first names\n",
    "data['director'] = data['director'].map(lambda x: x.replace(' ','').lower().split(' '))\n",
    "\n",
    "#country\n",
    "data['country'] = data['country'].map(lambda x : x.replace(' ','').lower().split(' '))\n",
    "\n",
    "#making a list of description\n",
    "data['description']= data['description'].map(lambda x : x.split(' '))"
   ]
  },
  {
   "cell_type": "code",
   "execution_count": 953,
   "metadata": {},
   "outputs": [],
   "source": [
    "#joining the actor surnames and names \n",
    "for index,rows in data.iterrows():\n",
    "    \n",
    "    rows['cast'] = [x.lower().replace(' ','') for x in rows['cast']] "
   ]
  },
  {
   "cell_type": "code",
   "execution_count": 954,
   "metadata": {},
   "outputs": [
    {
     "data": {
      "text/html": [
       "<div>\n",
       "<style scoped>\n",
       "    .dataframe tbody tr th:only-of-type {\n",
       "        vertical-align: middle;\n",
       "    }\n",
       "\n",
       "    .dataframe tbody tr th {\n",
       "        vertical-align: top;\n",
       "    }\n",
       "\n",
       "    .dataframe thead th {\n",
       "        text-align: right;\n",
       "    }\n",
       "</style>\n",
       "<table border=\"1\" class=\"dataframe\">\n",
       "  <thead>\n",
       "    <tr style=\"text-align: right;\">\n",
       "      <th></th>\n",
       "      <th>title</th>\n",
       "      <th>country</th>\n",
       "      <th>director</th>\n",
       "      <th>cast</th>\n",
       "      <th>listed_in</th>\n",
       "      <th>description</th>\n",
       "    </tr>\n",
       "  </thead>\n",
       "  <tbody>\n",
       "    <tr>\n",
       "      <th>0</th>\n",
       "      <td>3%</td>\n",
       "      <td>[brazil]</td>\n",
       "      <td>[]</td>\n",
       "      <td>[joãomiguel, biancacomparato, michelgomes]</td>\n",
       "      <td>[international tv shows,  tv dramas,  tv sci-f...</td>\n",
       "      <td>[, , future, elite, inhabit, island, paradise,...</td>\n",
       "    </tr>\n",
       "    <tr>\n",
       "      <th>1</th>\n",
       "      <td>7:19</td>\n",
       "      <td>[mexico]</td>\n",
       "      <td>[jorgemichelgrau]</td>\n",
       "      <td>[demiánbichir, héctorbonilla, oscarserrano]</td>\n",
       "      <td>[dramas,  international movies]</td>\n",
       "      <td>[, , devastating, earthquake, hits, mexico, ci...</td>\n",
       "    </tr>\n",
       "    <tr>\n",
       "      <th>2</th>\n",
       "      <td>23:59</td>\n",
       "      <td>[singapore]</td>\n",
       "      <td>[gilbertchan]</td>\n",
       "      <td>[teddchan, stellachung, henleyhii]</td>\n",
       "      <td>[horror movies,  international movies]</td>\n",
       "      <td>[, , army, recruit, found, dead, fellow, soldi...</td>\n",
       "    </tr>\n",
       "    <tr>\n",
       "      <th>3</th>\n",
       "      <td>9</td>\n",
       "      <td>[unitedstates]</td>\n",
       "      <td>[shaneacker]</td>\n",
       "      <td>[elijahwood, johnc.reilly, jenniferconnelly]</td>\n",
       "      <td>[action &amp; adventure,  independent movies,  sci...</td>\n",
       "      <td>[, , postapocalyptic, world, ragdoll, robots, ...</td>\n",
       "    </tr>\n",
       "    <tr>\n",
       "      <th>4</th>\n",
       "      <td>21</td>\n",
       "      <td>[unitedstates]</td>\n",
       "      <td>[robertluketic]</td>\n",
       "      <td>[jimsturgess, kevinspacey, katebosworth]</td>\n",
       "      <td>[dramas]</td>\n",
       "      <td>[, , brilliant, group, students, become, cardc...</td>\n",
       "    </tr>\n",
       "  </tbody>\n",
       "</table>\n",
       "</div>"
      ],
      "text/plain": [
       "   title         country           director  \\\n",
       "0     3%        [brazil]                 []   \n",
       "1   7:19        [mexico]  [jorgemichelgrau]   \n",
       "2  23:59     [singapore]      [gilbertchan]   \n",
       "3      9  [unitedstates]       [shaneacker]   \n",
       "4     21  [unitedstates]    [robertluketic]   \n",
       "\n",
       "                                           cast  \\\n",
       "0    [joãomiguel, biancacomparato, michelgomes]   \n",
       "1   [demiánbichir, héctorbonilla, oscarserrano]   \n",
       "2            [teddchan, stellachung, henleyhii]   \n",
       "3  [elijahwood, johnc.reilly, jenniferconnelly]   \n",
       "4      [jimsturgess, kevinspacey, katebosworth]   \n",
       "\n",
       "                                           listed_in  \\\n",
       "0  [international tv shows,  tv dramas,  tv sci-f...   \n",
       "1                    [dramas,  international movies]   \n",
       "2             [horror movies,  international movies]   \n",
       "3  [action & adventure,  independent movies,  sci...   \n",
       "4                                           [dramas]   \n",
       "\n",
       "                                         description  \n",
       "0  [, , future, elite, inhabit, island, paradise,...  \n",
       "1  [, , devastating, earthquake, hits, mexico, ci...  \n",
       "2  [, , army, recruit, found, dead, fellow, soldi...  \n",
       "3  [, , postapocalyptic, world, ragdoll, robots, ...  \n",
       "4  [, , brilliant, group, students, become, cardc...  "
      ]
     },
     "execution_count": 954,
     "metadata": {},
     "output_type": "execute_result"
    }
   ],
   "source": [
    "data.head()"
   ]
  },
  {
   "cell_type": "markdown",
   "metadata": {},
   "source": [
    "# Word corpus"
   ]
  },
  {
   "cell_type": "markdown",
   "metadata": {},
   "source": [
    "### Making a new column containg all the features in a single string  "
   ]
  },
  {
   "cell_type": "code",
   "execution_count": 955,
   "metadata": {},
   "outputs": [],
   "source": [
    "#Form a column text such that it contains all the columns merged in string format\n",
    "data['text'] = ''\n",
    "column = list(data.columns)\n",
    "column.remove('title')\n",
    "for index,rows in data.iterrows():\n",
    "    words = ''\n",
    "    for col in column:\n",
    "            words = words + ' '.join(rows[col]) + ' '\n",
    "    data['text'][index] = words"
   ]
  },
  {
   "cell_type": "code",
   "execution_count": 956,
   "metadata": {},
   "outputs": [
    {
     "data": {
      "text/plain": [
       "'mexico jorgemichelgrau demiánbichir héctorbonilla oscarserrano dramas  international movies   devastating earthquake hits mexico city trapped survivors walks life wait rescued trying desperately stay alive  '"
      ]
     },
     "execution_count": 956,
     "metadata": {},
     "output_type": "execute_result"
    }
   ],
   "source": [
    "data['text'][1]"
   ]
  },
  {
   "cell_type": "code",
   "execution_count": 957,
   "metadata": {},
   "outputs": [],
   "source": [
    "#replacing the double spaces with single spaces caused because of intitial space in description\n",
    "data['text'] = data['text'].map(lambda x : x.replace('  ', ' '))"
   ]
  },
  {
   "cell_type": "code",
   "execution_count": 958,
   "metadata": {},
   "outputs": [
    {
     "data": {
      "text/plain": [
       "'mexico jorgemichelgrau demiánbichir héctorbonilla oscarserrano dramas international movies  devastating earthquake hits mexico city trapped survivors walks life wait rescued trying desperately stay alive '"
      ]
     },
     "execution_count": 958,
     "metadata": {},
     "output_type": "execute_result"
    }
   ],
   "source": [
    "data['text'][1]"
   ]
  },
  {
   "cell_type": "code",
   "execution_count": 959,
   "metadata": {},
   "outputs": [
    {
     "data": {
      "text/html": [
       "<div>\n",
       "<style scoped>\n",
       "    .dataframe tbody tr th:only-of-type {\n",
       "        vertical-align: middle;\n",
       "    }\n",
       "\n",
       "    .dataframe tbody tr th {\n",
       "        vertical-align: top;\n",
       "    }\n",
       "\n",
       "    .dataframe thead th {\n",
       "        text-align: right;\n",
       "    }\n",
       "</style>\n",
       "<table border=\"1\" class=\"dataframe\">\n",
       "  <thead>\n",
       "    <tr style=\"text-align: right;\">\n",
       "      <th></th>\n",
       "      <th>title</th>\n",
       "      <th>text</th>\n",
       "    </tr>\n",
       "  </thead>\n",
       "  <tbody>\n",
       "    <tr>\n",
       "      <th>0</th>\n",
       "      <td>3%</td>\n",
       "      <td>brazil joãomiguel biancacomparato michelgomes ...</td>\n",
       "    </tr>\n",
       "    <tr>\n",
       "      <th>1</th>\n",
       "      <td>7:19</td>\n",
       "      <td>mexico jorgemichelgrau demiánbichir héctorboni...</td>\n",
       "    </tr>\n",
       "    <tr>\n",
       "      <th>2</th>\n",
       "      <td>23:59</td>\n",
       "      <td>singapore gilbertchan teddchan stellachung hen...</td>\n",
       "    </tr>\n",
       "    <tr>\n",
       "      <th>3</th>\n",
       "      <td>9</td>\n",
       "      <td>unitedstates shaneacker elijahwood johnc.reill...</td>\n",
       "    </tr>\n",
       "    <tr>\n",
       "      <th>4</th>\n",
       "      <td>21</td>\n",
       "      <td>unitedstates robertluketic jimsturgess kevinsp...</td>\n",
       "    </tr>\n",
       "  </tbody>\n",
       "</table>\n",
       "</div>"
      ],
      "text/plain": [
       "   title                                               text\n",
       "0     3%  brazil joãomiguel biancacomparato michelgomes ...\n",
       "1   7:19  mexico jorgemichelgrau demiánbichir héctorboni...\n",
       "2  23:59  singapore gilbertchan teddchan stellachung hen...\n",
       "3      9  unitedstates shaneacker elijahwood johnc.reill...\n",
       "4     21  unitedstates robertluketic jimsturgess kevinsp..."
      ]
     },
     "execution_count": 959,
     "metadata": {},
     "output_type": "execute_result"
    }
   ],
   "source": [
    "lst = ['country','director','cast','listed_in','description']\n",
    "data = data.drop((lst),axis=1) \n",
    "data.head()"
   ]
  },
  {
   "cell_type": "code",
   "execution_count": 960,
   "metadata": {},
   "outputs": [],
   "source": [
    "data.to_pickle('Pickle/ 7k_Nlp_preprocessed_data')"
   ]
  },
  {
   "cell_type": "code",
   "execution_count": 13,
   "metadata": {},
   "outputs": [],
   "source": [
    "data = pd.read_pickle('Pickle/ 7k_Nlp_preprocessed_data')"
   ]
  },
  {
   "cell_type": "markdown",
   "metadata": {},
   "source": [
    "## Bag of words based movie similarity"
   ]
  },
  {
   "cell_type": "code",
   "execution_count": 962,
   "metadata": {},
   "outputs": [
    {
     "data": {
      "text/plain": [
       "(7787, 36439)"
      ]
     },
     "execution_count": 962,
     "metadata": {},
     "output_type": "execute_result"
    }
   ],
   "source": [
    "title_vectorizer = CountVectorizer()\n",
    "title_features = title_vectorizer.fit_transform(data['text'])\n",
    "#CountVectorizer().fit_transform(data['title']) returns a sparse matrix with dimensions  =  no. points * words_in_corpus\n",
    "\n",
    "title_features.shape"
   ]
  },
  {
   "cell_type": "code",
   "execution_count": 963,
   "metadata": {},
   "outputs": [],
   "source": [
    "def Bag_of_words_model(doc_id,cut_off):\n",
    "    #doc_id is the number on the new index formed after CountVectorizer is applied to the data['text']\n",
    "    #pairwise distance will save the distance between given input apparel and all other apparels\n",
    "    pairwise_dist = pairwise_distances(title_features,title_features[doc_id])\n",
    "    \n",
    "    #Gives us indices of data points sorted in ascending order based on the eucledian distances sorted \n",
    "    indices = np.argsort(pairwise_dist.flatten())[0:cut_off]\n",
    "    \n",
    "    data_indices = list(data.index[indices])\n",
    "    \n",
    "    for i in range(0,len(data_indices)):\n",
    "        print('Title = {}'.format(data['title'].loc[data_indices[i]]))\n",
    "        print('Story = {}'.format(description['description'].loc[data_indices[i]]))\n",
    "        print('Listed under = {}'.format(description['listed_in'].loc[data_indices[i]]))\n",
    "        print('   ')\n",
    "        "
   ]
  },
  {
   "cell_type": "code",
   "execution_count": 964,
   "metadata": {},
   "outputs": [
    {
     "name": "stdout",
     "output_type": "stream",
     "text": [
      "Title = The Incredibles 2\n",
      "Story = When Elastigirl gets recruited for a high-profile crime-fighting mission, Mr. Incredible takes on his toughest assignment ever: full-time parenting.\n",
      "Listed under = Children & Family Movies, Comedies\n",
      "   \n",
      "Title = Incredibles 2 (Spanish Version)\n",
      "Story = When Elastigirl gets recruited for a high-profile crime-fighting mission, Mr. Incredible takes on his toughest assignment ever: full-time parenting.\n",
      "Listed under = Children & Family Movies, Comedies\n",
      "   \n",
      "Title = LEGO Marvel Super Heroes: Guardians of the Galaxy\n",
      "Story = The Guardians are on a mission to deliver the Build Stone to the Avengers before the Ravagers, Thanos and his underlings steal it from them.\n",
      "Listed under = Children & Family Movies\n",
      "   \n",
      "Title = Tellur Aliens\n",
      "Story = Three teenaged best friends on the planet Telluria begin an incredible journey of adventure as they fight against the most evil being in the universe.\n",
      "Listed under = Children & Family Movies\n",
      "   \n"
     ]
    }
   ],
   "source": [
    "Bag_of_words_model(6487,4)"
   ]
  },
  {
   "cell_type": "markdown",
   "metadata": {},
   "source": [
    "## TFIDF based movie similarity model"
   ]
  },
  {
   "cell_type": "code",
   "execution_count": 5,
   "metadata": {},
   "outputs": [],
   "source": [
    "Tfidf_vectorizer = TfidfVectorizer()\n",
    "Tfidf_title_features = Tfidf_vectorizer.fit_transform(data['text'])\n",
    "\n",
    "#Tfidf_vectorizer().fit_transform(data['title']) returns a sparse matrix with dimensions  =  no. points * words_in_corpus\n",
    "# tfidf_title_features[doc_id, index_of_word_in_corpus] = tfidf values of the word in given doc"
   ]
  },
  {
   "cell_type": "code",
   "execution_count": 14,
   "metadata": {},
   "outputs": [],
   "source": [
    "def Tfidf_model(doc_id,cut_off):\n",
    "    #doc_id is the number on the new index formed after TfidfVectorizer is applied to the data['text']\n",
    "    #pairwise distance will save the distance between given input apparel[doc_id] and all other apparels\n",
    "    pairwise_dist = pairwise_distances(Tfidf_title_features,Tfidf_title_features[doc_id])\n",
    "    \n",
    "    #Gives us indices of data points sorted in ascending order based on the eucledian distances\n",
    "    indices = np.argsort(pairwise_dist.flatten())[:cut_off]\n",
    "    \n",
    "    #data indices in our original data set\n",
    "    data_indices = list(data.index[indices])\n",
    "    \n",
    "    for i in range(0,len(data_indices)):\n",
    "        print('Title = {}'.format(data['title'].loc[data_indices[i]]))\n",
    "        print('Story = {}'.format(description['description'].loc[data_indices[i]]))\n",
    "        print('Listed under = {}'.format(description['listed_in'].loc[data_indices[i]]))\n",
    "        print('   ')\n",
    "        "
   ]
  },
  {
   "cell_type": "code",
   "execution_count": 15,
   "metadata": {},
   "outputs": [
    {
     "name": "stdout",
     "output_type": "stream",
     "text": [
      "Title = The Incredibles 2\n",
      "Story = When Elastigirl gets recruited for a high-profile crime-fighting mission, Mr. Incredible takes on his toughest assignment ever: full-time parenting.\n",
      "Listed under = Children & Family Movies, Comedies\n",
      "   \n",
      "Title = Incredibles 2 (Spanish Version)\n",
      "Story = When Elastigirl gets recruited for a high-profile crime-fighting mission, Mr. Incredible takes on his toughest assignment ever: full-time parenting.\n",
      "Listed under = Children & Family Movies, Comedies\n",
      "   \n",
      "Title = Unicorn Store\n",
      "Story = After failing out of art school and taking a humdrum office job, a whimsical painter gets a chance to fulfill her lifelong dream of adopting a unicorn.\n",
      "Listed under = Comedies, Dramas, Independent Movies\n",
      "   \n",
      "Title = Barely Lethal\n",
      "Story = A girl raised to be a government assassin just wants to be a normal teen – so she runs away and pretends to be a high school exchange student.\n",
      "Listed under = Action & Adventure, Comedies\n",
      "   \n"
     ]
    }
   ],
   "source": [
    "Tfidf_model(6487,4)"
   ]
  },
  {
   "cell_type": "code",
   "execution_count": null,
   "metadata": {},
   "outputs": [],
   "source": []
  }
 ],
 "metadata": {
  "kernelspec": {
   "display_name": "Python 3",
   "language": "python",
   "name": "python3"
  },
  "language_info": {
   "codemirror_mode": {
    "name": "ipython",
    "version": 3
   },
   "file_extension": ".py",
   "mimetype": "text/x-python",
   "name": "python",
   "nbconvert_exporter": "python",
   "pygments_lexer": "ipython3",
   "version": "3.6.5"
  }
 },
 "nbformat": 4,
 "nbformat_minor": 2
}

{
 "cells": [
  {
   "cell_type": "markdown",
   "id": "2e853e3b",
   "metadata": {},
   "source": [
    "# Import libraries"
   ]
  },
  {
   "cell_type": "code",
   "execution_count": 55,
   "id": "9c37ca5c",
   "metadata": {},
   "outputs": [],
   "source": [
    "import pandas as pd\n",
    "import numpy as np\n",
    "import warnings\n",
    "import nltk\n",
    "from nltk.corpus import stopwords\n",
    "from nltk.tokenize import word_tokenize\n",
    "from sklearn.feature_extraction.text import CountVectorizer\n",
    "from sklearn.feature_extraction.text import TfidfVectorizer\n",
    "from collections import Counter"
   ]
  },
  {
   "cell_type": "markdown",
   "id": "35186e39",
   "metadata": {},
   "source": [
    "# 1.Data Loading"
   ]
  },
  {
   "cell_type": "code",
   "execution_count": 56,
   "id": "70b9dbd3",
   "metadata": {},
   "outputs": [],
   "source": [
    "def load_data(Netflix_file):\n",
    "    \n",
    "    #importing amazon product dataset\n",
    "    data = pd.read_csv(Netflix_file)\n",
    "    \n",
    "    #printing the shape of our data set \n",
    "    print('The data has {} data points and {} features \\n'.format(data.shape[0],data.shape[1]))\n",
    "    #printing a space for presentation\n",
    "    \n",
    "    \n",
    "    #keeping just the pertinent features\n",
    "    data = data[['title','country','director','cast','listed_in','description']]\n",
    "    \n",
    "    print('The data after removing irrelevant features has {} and it contains these {} features. The names of the features are {} \\n \\n'.format(data.shape[0],data.shape[1],list(data.columns)))\n",
    "    \n",
    "    return data"
   ]
  },
  {
   "cell_type": "markdown",
   "id": "dee03b0c",
   "metadata": {},
   "source": [
    "# 2.Data Analysis"
   ]
  },
  {
   "cell_type": "code",
   "execution_count": 63,
   "id": "4d4b65f1",
   "metadata": {},
   "outputs": [],
   "source": [
    "def analysis(data):\n",
    "    \n",
    "    #Basic stats for directors\n",
    "    print('The basic statistics for the directors of movies are as follows: \\n{}\\n\\n'.format(data['director'].describe()))\n",
    "    \n",
    "    #Most common director names\n",
    "    print('The directors with most movies are:\\n{}\\n\\n'.format(Counter(list(data['director'])).most_common(10)))\n",
    "    \n",
    "    #% of movies with listed directors\n",
    "    print('The percentage of total movies with listed directors:\\n{}% \\n\\n'.format(data[~data['director'].isnull()].shape[0]/data.shape[0]*100))\n",
    "\n",
    "    #Basic stats for cast\n",
    "    print('The basic statistics for the cast are as follows: \\n{}\\n\\n'.format(data['cast'].describe()))\n",
    "    \n",
    "    #% of movies with listed cast\n",
    "    print('The percentage of total movies with listed cast:\\n{}% \\n\\n'.format(data[~data['cast'].isnull()].shape[0]/data.shape[0]*100))\n",
    " \n",
    "    #movies with missing name\n",
    "    print('The number of movies with missing movie titles:\\n{}\\n\\n'.format(data[data['title'].isnull()].shape[0]))\n",
    "    \n",
    "    #movies with missing description\n",
    "    print('The number of movies with missing movie description:\\n{}\\n\\n'.format(data[data['description'].isnull()].shape[0]))\n",
    "    "
   ]
  },
  {
   "cell_type": "markdown",
   "id": "fa9d37fc",
   "metadata": {},
   "source": [
    "# 5. Main Execution:"
   ]
  },
  {
   "cell_type": "code",
   "execution_count": 64,
   "id": "09ce7e2c",
   "metadata": {},
   "outputs": [],
   "source": [
    "def main(Netflix_file):\n",
    "    \n",
    "        print('LOADING DATA...{}\\n\\n '.format(Netflix_file))\n",
    "        data = load_data(Netflix_file)\n",
    "\n",
    "        print('DATA ANALYSIS...\\n\\n')\n",
    "        analysis(data)\n"
   ]
  },
  {
   "cell_type": "code",
   "execution_count": 65,
   "id": "83045b6a",
   "metadata": {},
   "outputs": [
    {
     "name": "stdout",
     "output_type": "stream",
     "text": [
      "LOADING DATA...netflix_titles.csv\n",
      "\n",
      " \n",
      "The data has 7787 data points and 12 features \n",
      "\n",
      "The data after removing irrelevant features has 7787 and it contains these 6 features. The names of the features are ['title', 'country', 'director', 'cast', 'listed_in', 'description'] \n",
      " \n",
      "\n",
      "DATA ANALYSIS...\n",
      "\n",
      "\n",
      "The basic statistics for the directors of movies are as follows: \n",
      "count                       5398\n",
      "unique                      4049\n",
      "top       Raúl Campos, Jan Suter\n",
      "freq                          18\n",
      "Name: director, dtype: object\n",
      "\n",
      "\n",
      "The directors with most movies are:\n",
      "[(nan, 2389), ('Raúl Campos, Jan Suter', 18), ('Marcus Raboy', 16), ('Jay Karas', 14), ('Cathy Garcia-Molina', 13), ('Youssef Chahine', 12), ('Martin Scorsese', 12), ('Jay Chapman', 12), ('Steven Spielberg', 10), ('David Dhawan', 9)]\n",
      "\n",
      "\n",
      "The percentage of total movies with listed directors:\n",
      "69.32066264286631% \n",
      "\n",
      "\n",
      "The basic statistics for the cast are as follows: \n",
      "count                   7069\n",
      "unique                  6831\n",
      "top       David Attenborough\n",
      "freq                      18\n",
      "Name: cast, dtype: object\n",
      "\n",
      "\n",
      "The percentage of total movies with listed cast:\n",
      "90.77950430204187% \n",
      "\n",
      "\n",
      "The number of movies with missing movie titles:\n",
      "0\n",
      "\n",
      "\n",
      "The number of movies with missing movie description:\n",
      "0\n",
      "\n",
      "\n"
     ]
    }
   ],
   "source": [
    "main('netflix_titles.csv')"
   ]
  },
  {
   "cell_type": "code",
   "execution_count": null,
   "id": "e89c84e7",
   "metadata": {},
   "outputs": [],
   "source": []
  }
 ],
 "metadata": {
  "kernelspec": {
   "display_name": "Python 3",
   "language": "python",
   "name": "python3"
  },
  "language_info": {
   "codemirror_mode": {
    "name": "ipython",
    "version": 3
   },
   "file_extension": ".py",
   "mimetype": "text/x-python",
   "name": "python",
   "nbconvert_exporter": "python",
   "pygments_lexer": "ipython3",
   "version": "3.8.10"
  }
 },
 "nbformat": 4,
 "nbformat_minor": 5
}
